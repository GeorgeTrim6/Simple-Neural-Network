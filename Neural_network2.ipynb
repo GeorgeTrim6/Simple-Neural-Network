{
 "cells": [
  {
   "cell_type": "markdown",
   "metadata": {},
   "source": [
    "# Simple Neural Network created form scratch\n",
    "#### Created for use on MNist data set attained from kaggle.com"
   ]
  },
  {
   "cell_type": "markdown",
   "metadata": {},
   "source": [
    "### 1) Importing libraries & preparing data"
   ]
  },
  {
   "cell_type": "code",
   "execution_count": 84,
   "metadata": {},
   "outputs": [],
   "source": [
    "import numpy as np\n",
    "import matplotlib.pyplot as plt\n",
    "import pandas as pd"
   ]
  },
  {
   "cell_type": "code",
   "execution_count": 85,
   "metadata": {},
   "outputs": [],
   "source": [
    "# Read in dataset attained from kaggle.com\n",
    "df = pd.read_csv(\"train.csv\")"
   ]
  },
  {
   "cell_type": "code",
   "execution_count": 86,
   "metadata": {},
   "outputs": [
    {
     "name": "stdout",
     "output_type": "stream",
     "text": [
      "Shape of training data: (33600, 785) and shape of test data: (8400, 785)\n"
     ]
    }
   ],
   "source": [
    "# Split data into a training and test dataset.\n",
    "split = int(len(df)*0.8)\n",
    "df_train = df[:split].values\n",
    "df_test = df[split:].values\n",
    "print(f'Shape of training data: {df_train.shape} and shape of test data: {df_test.shape}')"
   ]
  },
  {
   "cell_type": "code",
   "execution_count": 87,
   "metadata": {},
   "outputs": [],
   "source": [
    "# Set the features to x and the labels to y.\n",
    "xtrain, xtest = df_train[:,1:], df_test[:,1:]\n",
    "ytrain, ytest = df_train[:,0], df_test[:,0]"
   ]
  },
  {
   "cell_type": "code",
   "execution_count": 88,
   "metadata": {},
   "outputs": [],
   "source": [
    "# Returns the labels as 10 columns with the a one in the column number which matches the labels values.\n",
    "def get_dummies(arr):\n",
    "    output = np.zeros([(len(arr)),10])\n",
    "    mask = pd.get_dummies(arr)\n",
    "    output[mask]=1\n",
    "    return output\n",
    "\n",
    "#Scales values in features between 0 and 1.\n",
    "def scale(arr):\n",
    "    return arr/np.max(arr)"
   ]
  },
  {
   "cell_type": "code",
   "execution_count": 89,
   "metadata": {},
   "outputs": [
    {
     "name": "stdout",
     "output_type": "stream",
     "text": [
      "Shape of xtrain: (33600, 784) and shape of ytrain: (33600, 10)\n"
     ]
    }
   ],
   "source": [
    "xtrain, xtest = scale(xtrain), scale(xtest)\n",
    "ytrain, ytest = get_dummies(ytrain), get_dummies(ytest)\n",
    "print(f'Shape of xtrain: {xtrain.shape} and shape of ytrain: {ytrain.shape}')\n"
   ]
  },
  {
   "cell_type": "markdown",
   "metadata": {},
   "source": [
    "### 2) Creating the Neural Network"
   ]
  },
  {
   "cell_type": "code",
   "execution_count": 91,
   "metadata": {},
   "outputs": [],
   "source": [
    "class NeuralNet:\n",
    "    def __init__(self):\n",
    "        self.activations_map = {\"relu\":self.relu,\n",
    "                            \"softmax\":self.softmax\n",
    "                            }\n",
    "\n",
    "    # Relu function return 0 if value less than 1. else returns value\n",
    "    def relu(self, a):\n",
    "        return np.maximum(0,a)\n",
    "    \n",
    "    # Derivative of relu function.\n",
    "    def der_relu(self, z):\n",
    "        return z>0\n",
    "\n",
    "    # Softmax function. Determines what fraction of total output a value makes up. Range between 0 and 1. \n",
    "    def softmax(self, test):\n",
    "        return np.exp(test)/np.sum(np.exp(test),axis=1).reshape(-1,1)\n",
    "\n",
    "    # Creates the weights and biases based on the number of layers and nodes for each layer.\n",
    "    def initialize_layers(self, layers:np.array):\n",
    "        weights, bias = [], []\n",
    "        input = layers[0]\n",
    "\n",
    "        for val in layers[1:]:\n",
    "            weights.append((np.random.rand(input, val)-0.5))\n",
    "            bias.append(np.random.rand(1, val))\n",
    "            input = val\n",
    "        self.weights, self.bias = weights, bias\n",
    "    \n",
    "    # Performs the neural networks forward propagation returns the pre and post activation values for each layer.\n",
    "    def forward_prop(self, input_data, activations):\n",
    "        if len(self.weights)!=len(activations):\n",
    "            raise ValueError(f\"Need an activation function for each layer. You have given {len(activations)} need {len(self.weights)}\")\n",
    "        \n",
    "        self.input_data = input_data\n",
    "        alist, zlist = [],[input_data]\n",
    "        for i in range(len(self.weights)):\n",
    "            a = input_data.dot(self.weights[i])+self.bias[i]\n",
    "            z = self.activations_map[activations[i]](a)\n",
    "            alist.append(a)\n",
    "            zlist.append(z)\n",
    "            input_data = z\n",
    "        self.z, self.a, = zlist, alist\n",
    "\n",
    "    # Perform back propagation.\n",
    "    def back_prop(self, true_values):\n",
    "        self.weight_derivatives, self.bias_derivatives = [], []\n",
    "        m = len(self.input_data)\n",
    "        \n",
    "\n",
    "        for i in range(len(self.z)-1):\n",
    "            count = 0\n",
    "            dz= (self.z[-1]-true_values)\n",
    "            while i - count !=0:\n",
    "                dz = dz.dot(self.weights[-count-1].T)*self.der_relu(self.z[(-count-2)])\n",
    "                count+=1\n",
    "\n",
    "            self.weight_derivatives.append(((1/m)*dz.T.dot(self.z[-i-2])).T)\n",
    "            self.bias_derivatives.append((1/m)*np.sum(dz,axis=0))\n",
    "\n",
    "    # Uses derivatives found in backpropagation in combination with learning rate to update the weights and biases\n",
    "    def update_params(self):\n",
    "        for i in range(len(self.weight_derivatives)):\n",
    "            self.weights[i] = self.weights[i]-(self.lr*self.weight_derivatives[-i-1])\n",
    "            self.bias[i] = self.bias[i]-(self.lr*self.bias_derivatives[-i-1])\n",
    "\n",
    "    # For training model. Runs forward and Back propagtion repeatedly for the set number of epochs, while updating parameters each time. \n",
    "    def gradient(self, input_data, layers:np.array, activations:list, true_values,lr, epochs):\n",
    "        self.lr = lr\n",
    "        self.history = []\n",
    "        self.initialize_layers(layers)\n",
    "        self.forward_prop(input_data, activations)\n",
    "        \n",
    "        for i in range(epochs):\n",
    "            self.back_prop(true_values)\n",
    "            self.update_params()\n",
    "            self.forward_prop(input_data, activations)\n",
    "            self.history.append(self.z[-1])\n",
    "        print(\"Training complete\")"
   ]
  },
  {
   "cell_type": "code",
   "execution_count": 83,
   "metadata": {},
   "outputs": [],
   "source": [
    "# Functions used to determine accuracy of models predictions.\n",
    "def get_predictions(A2):\n",
    "    return np.argmax(A2,axis=1)\n",
    "\n",
    "def pred_acc(predictions, test):\n",
    "     model_pred = get_predictions(predictions)\n",
    "     test_pred = get_predictions(test)\n",
    "     return np.sum(model_pred==test_pred)/len(test_pred)"
   ]
  },
  {
   "cell_type": "markdown",
   "metadata": {},
   "source": [
    "### 3) Training the network on test data\n",
    "\n",
    "######  - Network has an input layer of 784 nodes, a hidden layer of 100 nodes, and an output layer of 10 nodes. "
   ]
  },
  {
   "cell_type": "code",
   "execution_count": 92,
   "metadata": {},
   "outputs": [
    {
     "name": "stdout",
     "output_type": "stream",
     "text": [
      "Training complete\n"
     ]
    }
   ],
   "source": [
    "N1 = NeuralNet()\n",
    "N1.gradient(xtrain,np.array([784,100,10]),[\"relu\", \"softmax\"], ytrain, lr = 0.1,epochs=500)"
   ]
  },
  {
   "cell_type": "markdown",
   "metadata": {},
   "source": [
    "### 4) Checking Model performance\n",
    "\n",
    "* First on training data\n",
    "* Second on test data"
   ]
  },
  {
   "cell_type": "code",
   "execution_count": 93,
   "metadata": {},
   "outputs": [
    {
     "name": "stdout",
     "output_type": "stream",
     "text": [
      "Accuracy on training data was 90.83%\n"
     ]
    }
   ],
   "source": [
    "acc_train = pred_acc(N1.history[-1], ytrain)\n",
    "print(f\"Accuracy on training data was {round(acc_train*100,2)}%\")"
   ]
  },
  {
   "cell_type": "code",
   "execution_count": 94,
   "metadata": {},
   "outputs": [
    {
     "data": {
      "image/png": "[encoded data removed]",
      "text/plain": [
       "<Figure size 640x480 with 1 Axes>"
      ]
     },
     "metadata": {},
     "output_type": "display_data"
    }
   ],
   "source": [
    "acc = []\n",
    "for val in N1.history:\n",
    "    acc.append(pred_acc(val,ytrain))\n",
    "plt.title(\"Training accuracy vs epochs\")\n",
    "plt.plot(acc)\n",
    "plt.show()"
   ]
  },
  {
   "cell_type": "code",
   "execution_count": 95,
   "metadata": {},
   "outputs": [
    {
     "name": "stdout",
     "output_type": "stream",
     "text": [
      "Accuracy on test data was 90.26%\n"
     ]
    }
   ],
   "source": [
    "N1.forward_prop(xtest,[\"relu\", \"softmax\"])\n",
    "acc_test = pred_acc(N1.z[-1], ytest)\n",
    "print(f\"Accuracy on test data was {round(acc_test*100,2)}%\")"
   ]
  }
 ],
 "metadata": {
  "kernelspec": {
   "display_name": "Python 3",
   "language": "python",
   "name": "python3"
  },
  "language_info": {
   "codemirror_mode": {
    "name": "ipython",
    "version": 3
   },
   "file_extension": ".py",
   "mimetype": "text/x-python",
   "name": "python",
   "nbconvert_exporter": "python",
   "pygments_lexer": "ipython3",
   "version": "3.12.4"
  }
 },
 "nbformat": 4,
 "nbformat_minor": 2
}
